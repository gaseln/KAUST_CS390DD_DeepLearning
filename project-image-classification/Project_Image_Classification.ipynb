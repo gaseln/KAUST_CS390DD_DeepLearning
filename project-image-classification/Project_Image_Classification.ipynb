{
 "cells": [
  {
   "cell_type": "markdown",
   "metadata": {
    "colab_type": "text",
    "id": "quHwuvnL_N9o"
   },
   "source": [
    "# Project 1: Image Classification"
   ]
  },
  {
   "cell_type": "markdown",
   "metadata": {
    "colab_type": "text",
    "id": "1JWfOd3AVO9J"
   },
   "source": [
    "## Task 0: Getting Started\n",
    "\n",
    "Read the getting started guide titled **\"Python for Deep Learning\"** and get familiar with Python and PyTorch. Read the provided code below and get familiar with the commands and their parameters to understand what the code is trying to do. We recommend to spend a fair amount of time to understand all the different parts of the code. This understanding will be important for this and future projects.\n",
    "\n",
    "The goal of this project is to implement the *“Hello World!”* program of deep learning: designing and training a network that performs image classification. The dataset we will be using is CIFAR10 which is a large set of images that are classified into 10 classes (airplane, bird, cat, etc.)."
   ]
  },
  {
   "cell_type": "markdown",
   "metadata": {
    "colab_type": "text",
    "id": "Wgsyd2YsVO9L"
   },
   "source": [
    "## Task 1:  Data Loading (10 points)\n",
    "Complete the **DataLoader** below which we will use to load images of the cifar10 dataset provided by torchvision. Your task is to normalize it by shifting and scaling it by a factor of 0.5. For the training set, introduce random transformations (e.g. flips) for data augmentation."
   ]
  },
  {
   "cell_type": "code",
   "execution_count": 1,
   "metadata": {
    "colab": {},
    "colab_type": "code",
    "id": "EtxYeHjRVO9S"
   },
   "outputs": [
    {
     "name": "stdout",
     "output_type": "stream",
     "text": [
      "Files already downloaded and verified\n",
      "Files already downloaded and verified\n",
      "Training on GPU.\n"
     ]
    }
   ],
   "source": [
    "from __future__ import print_function, division\n",
    "\n",
    "import os\n",
    "import time\n",
    "import numpy as np\n",
    "\n",
    "import torch\n",
    "import torch.nn as nn\n",
    "import torch.optim as optim\n",
    "import torch.nn.functional as F\n",
    "from torch.optim import lr_scheduler\n",
    "import torchvision\n",
    "from torchvision import datasets, models, transforms\n",
    "from torch.utils.data.sampler import SubsetRandomSampler\n",
    "\n",
    "from PIL import Image\n",
    "import matplotlib.pyplot as plt\n",
    "plt.ion()   # interactive mode\n",
    "\n",
    "# Data augmentation and normalization for training\n",
    "# Just normalization for testing\n",
    "data_transforms = {\n",
    "    'train': transforms.Compose([transforms.RandomHorizontalFlip(0.5),\n",
    "                                 transforms.RandomResizedCrop(size=(32, 32), scale=(0.8, 1)),\n",
    "                                 transforms.ToTensor(),\n",
    "                                 transforms.Normalize(mean=[0.5, 0.5, 0.5], std=[0.5, 0.5, 0.5])\n",
    "                                ]),\n",
    "    'test': transforms.Compose([transforms.ToTensor(),\n",
    "                               transforms.Normalize(mean=[0.5, 0.5, 0.5], std=[0.5, 0.5, 0.5])\n",
    "                               ])\n",
    "}\n",
    "\n",
    "# Load CIFAR10\n",
    "image_datasets = {x: torchvision.datasets.CIFAR10(root='./data', train=(x=='train'), download=True, transform=data_transforms[x]) for x in ['train', 'test']}\n",
    "dataloaders = {x: torch.utils.data.DataLoader(image_datasets[x], batch_size=4, shuffle=(x=='train'), num_workers=4) for x in ['train', 'test']}\n",
    "dataset_sizes = {x: len(image_datasets[x]) for x in ['train', 'test']}\n",
    "class_names = image_datasets['train'].classes\n",
    "\n",
    "# Move to GPU\n",
    "device = torch.device(\"cuda:0\" if torch.cuda.is_available() else \"cpu\")\n",
    "\n",
    "if torch.cuda.is_available():\n",
    "    print(\"Training on GPU.\")\n",
    "else:\n",
    "    print(\"Training on CPU.\")"
   ]
  },
  {
   "cell_type": "markdown",
   "metadata": {
    "colab_type": "text",
    "id": "uS6cR4RhVO9U"
   },
   "source": [
    "### Visualize a few images\n",
    "\n",
    "Let’s visualize a few training images so as to understand the data augmentations. The results should look like:\n",
    "\n",
    "<img src=\"https://i.imgur.com/Sa6l1go.png\" width=\"400\" align=\"left\">"
   ]
  },
  {
   "cell_type": "code",
   "execution_count": 2,
   "metadata": {
    "colab": {},
    "colab_type": "code",
    "id": "xXSA5DDBVO9V"
   },
   "outputs": [
    {
     "data": {
      "image/png": "[encoded data removed]",
      "text/plain": [
       "<Figure size 432x288 with 1 Axes>"
      ]
     },
     "metadata": {
      "needs_background": "light"
     },
     "output_type": "display_data"
    }
   ],
   "source": [
    "# TODO Task 1:  Run this cell and try to understand the output of each step\n",
    "\n",
    "def imshow(inp, title=None):\n",
    "    \"\"\"Imshow for Tensor.\"\"\"\n",
    "    inp = inp.numpy().transpose((1, 2, 0))\n",
    "    mean = np.array([0.5, 0.5, 0.5])\n",
    "    std = np.array([0.5, 0.5, 0.5])\n",
    "    inp = std * inp + mean\n",
    "    inp = np.clip(inp, 0, 1)\n",
    "    plt.imshow(inp)\n",
    "    if title is not None:\n",
    "        plt.title(title)\n",
    "    plt.pause(0.001)  # pause a bit so that plots are updated\n",
    "\n",
    "# Get a batch of training data\n",
    "inputs, classes = next(iter(dataloaders['train']))\n",
    "\n",
    "# Make a grid from batch\n",
    "out = torchvision.utils.make_grid(inputs)\n",
    "\n",
    "imshow(out, title=[class_names[x] for x in classes])"
   ]
  },
  {
   "cell_type": "markdown",
   "metadata": {
    "colab_type": "text",
    "id": "YmMMSK0TVO9L"
   },
   "source": [
    "## Task 2: Basic Networks (20 points)\n",
    "1. Create a Fully connected Network (FcNet) as follows in the Jupyter Notebook:\n",
    "```\n",
    "FcNet(\n",
    "  (fc1): Linear(in_features=3072, out_features=1024, bias=True)\n",
    "  (fc2): Linear(in_features=1024, out_features=400, bias=True)\n",
    "  (fc3): Linear(in_features=400, out_features=84, bias=True)\n",
    "  (fc4): Linear(in_features=84, out_features=10, bias=True)\n",
    ")\n",
    "```\n",
    "Train the FcNet for **3** epoches and record the training time and accuracy in your final report.\n",
    "\n",
    "2. Create a Convolutional Network (ConvNet) as follows in the Jupyter Notebook:\n",
    "```\n",
    "ConvNet(\n",
    "  (conv1): Conv2d(3, 6, kernel_size=(5, 5), stride=(1, 1))\n",
    "  (pool): MaxPool2d(kernel_size=2, stride=2, padding=0, dilation=1, ceil_mode=False)\n",
    "  (conv2): Conv2d(6, 16, kernel_size=(5, 5), stride=(1, 1))\n",
    "  (fc1): Linear(in_features=400, out_features=120, bias=True)\n",
    "  (fc2): Linear(in_features=120, out_features=84, bias=True)\n",
    "  (fc3): Linear(in_features=84, out_features=10, bias=True)\n",
    ")\n",
    "```\n",
    "Train the ConvNet for **3** epoches and record the training time and accuracy in your final report. \n",
    "\n",
    "*Use the default SGD optimizer ( lr=0.001, momentum=0.9) for training."
   ]
  },
  {
   "cell_type": "markdown",
   "metadata": {
    "colab_type": "text",
    "id": "1sKXg8fSVO9X"
   },
   "source": [
    "### Model training code (do not modify except for plotting the loss curve)"
   ]
  },
  {
   "cell_type": "code",
   "execution_count": 3,
   "metadata": {
    "colab": {},
    "colab_type": "code",
    "id": "A_Y2cgPEVO9X"
   },
   "outputs": [],
   "source": [
    "def train_model(model, criterion, optimizer, num_epochs=25, save_path='saved_weight.pth'):\n",
    "    since = time.time()\n",
    "    losses = []\n",
    "\n",
    "    for epoch in range(num_epochs):\n",
    "        print('Epoch {}/{}'.format(epoch, num_epochs - 1))\n",
    "        print('-' * 10)\n",
    "\n",
    "        # Each epoch has a training and validation phase\n",
    "        for phase in ['train']:\n",
    "            if phase == 'train': model.train()  # Set model to training mode\n",
    "\n",
    "            running_loss = 0.0\n",
    "            running_corrects = 0\n",
    "\n",
    "            # Iterate over data.\n",
    "            for inputs, labels in dataloaders[phase]:\n",
    "                inputs = inputs.to(device)\n",
    "                labels = labels.to(device)\n",
    "\n",
    "                # zero the parameter gradients\n",
    "                optimizer.zero_grad()\n",
    "\n",
    "                # forward\n",
    "                # track history if only in train\n",
    "                with torch.set_grad_enabled(phase == 'train'):\n",
    "                    outputs = model(inputs)\n",
    "                    _, preds = torch.max(outputs, 1)\n",
    "                    loss = criterion(outputs, labels)\n",
    "\n",
    "                    # backward + optimize only if in training phase\n",
    "                    if phase == 'train':\n",
    "                        loss.backward()\n",
    "                        optimizer.step()\n",
    "\n",
    "                # statistics\n",
    "                running_loss += loss.item() * inputs.size(0)\n",
    "                running_corrects += torch.sum(preds == labels.data)\n",
    "\n",
    "            epoch_loss = running_loss / dataset_sizes[phase]\n",
    "            losses.append(epoch_loss)\n",
    "            epoch_acc = running_corrects.double() / dataset_sizes[phase]\n",
    "\n",
    "            print('{} Loss: {:.4f} Acc: {:.4f}'.format(phase, epoch_loss, epoch_acc))\n",
    "    print()\n",
    "\n",
    "    time_elapsed = time.time() - since\n",
    "    print('Training complete in {:.0f}m {:.0f}s'.format(time_elapsed // 60, time_elapsed % 60))\n",
    "\n",
    "    torch.save(model.state_dict(), save_path)\n",
    "    return losses"
   ]
  },
  {
   "cell_type": "markdown",
   "metadata": {
    "colab_type": "text",
    "id": "tX6I8cqXFDMX"
   },
   "source": [
    "### 1) FC Network"
   ]
  },
  {
   "cell_type": "code",
   "execution_count": 21,
   "metadata": {
    "colab": {},
    "colab_type": "code",
    "id": "rpompN92VO9d"
   },
   "outputs": [
    {
     "name": "stdout",
     "output_type": "stream",
     "text": [
      "FcNet(\n",
      "  (fc1): Linear(in_features=3072, out_features=1024, bias=True)\n",
      "  (fc2): Linear(in_features=1024, out_features=400, bias=True)\n",
      "  (fc3): Linear(in_features=400, out_features=84, bias=True)\n",
      "  (fc4): Linear(in_features=84, out_features=10, bias=True)\n",
      ")\n"
     ]
    }
   ],
   "source": [
    "# 1) Define a Fully Connected Neural Network\n",
    "class FcNet(nn.Module):\n",
    "    def __init__(self):\n",
    "        super(FcNet, self).__init__()\n",
    "        self.fc1 = nn.Linear(3072, 1024)\n",
    "        self.fc2 = nn.Linear(1024, 400)\n",
    "        self.fc3 = nn.Linear(400, 84)\n",
    "        self.fc4 = nn.Linear(84, 10)\n",
    "\n",
    "    def forward(self, x):\n",
    "        batch_size = x.size()[0]\n",
    "        x = x.view(batch_size, -1)\n",
    "        x = F.relu(self.fc1(x))\n",
    "        x = F.relu(self.fc2(x))\n",
    "        x = F.relu(self.fc3(x))\n",
    "        x = self.fc4(x)\n",
    "\n",
    "        return x\n",
    "\n",
    "model_ft = FcNet()\n",
    "model_ft = model_ft.to(device)\n",
    "print(model_ft)"
   ]
  },
  {
   "cell_type": "code",
   "execution_count": 22,
   "metadata": {},
   "outputs": [],
   "source": [
    "criterion_fcnet = nn.CrossEntropyLoss()\n",
    "optimizer_fcnet = optim.SGD(model_ft.parameters(), lr=0.001, momentum=0.9)"
   ]
  },
  {
   "cell_type": "code",
   "execution_count": 23,
   "metadata": {},
   "outputs": [
    {
     "name": "stdout",
     "output_type": "stream",
     "text": [
      "Epoch 0/2\n",
      "----------\n",
      "train Loss: 1.7268 Acc: 0.3812\n",
      "Epoch 1/2\n",
      "----------\n",
      "train Loss: 1.4999 Acc: 0.4654\n",
      "Epoch 2/2\n",
      "----------\n",
      "train Loss: 1.4143 Acc: 0.4955\n",
      "\n",
      "Training complete in 1m 51s\n"
     ]
    },
    {
     "data": {
      "text/plain": [
       "FcNet(\n",
       "  (fc1): Linear(in_features=3072, out_features=1024, bias=True)\n",
       "  (fc2): Linear(in_features=1024, out_features=400, bias=True)\n",
       "  (fc3): Linear(in_features=400, out_features=84, bias=True)\n",
       "  (fc4): Linear(in_features=84, out_features=10, bias=True)\n",
       ")"
      ]
     },
     "execution_count": 23,
     "metadata": {},
     "output_type": "execute_result"
    }
   ],
   "source": [
    "train_model(model_ft, criterion_fcnet, optimizer_fcnet, num_epochs=3, save_path='fcnet.pth')"
   ]
  },
  {
   "cell_type": "markdown",
   "metadata": {
    "colab_type": "text",
    "id": "kFQdcJaKFF8y"
   },
   "source": [
    "### 2) CNN"
   ]
  },
  {
   "cell_type": "code",
   "execution_count": 24,
   "metadata": {
    "colab": {},
    "colab_type": "code",
    "id": "ma36XwVfVO9h"
   },
   "outputs": [
    {
     "name": "stdout",
     "output_type": "stream",
     "text": [
      "ConvNet(\n",
      "  (conv1): Conv2d(3, 6, kernel_size=(5, 5), stride=(1, 1))\n",
      "  (maxpool): MaxPool2d(kernel_size=2, stride=2, padding=0, dilation=1, ceil_mode=False)\n",
      "  (conv2): Conv2d(6, 16, kernel_size=(5, 5), stride=(1, 1))\n",
      "  (fc1): Linear(in_features=400, out_features=120, bias=True)\n",
      "  (fc2): Linear(in_features=120, out_features=84, bias=True)\n",
      "  (fc3): Linear(in_features=84, out_features=10, bias=True)\n",
      ")\n"
     ]
    }
   ],
   "source": [
    "# 2) Define a Convolutional Neural Network\n",
    "class ConvNet(nn.Module):\n",
    "    def __init__(self):\n",
    "        super(ConvNet, self).__init__()\n",
    "        self.conv1 = nn.Conv2d(3, 6, kernel_size=5)\n",
    "        self.maxpool = nn.MaxPool2d(kernel_size=2)\n",
    "        self.conv2 = nn.Conv2d(6, 16, kernel_size=5)\n",
    "        self.fc1 = nn.Linear(400, 120)\n",
    "        self.fc2 = nn.Linear(120, 84)\n",
    "        self.fc3 = nn.Linear(84, 10)\n",
    "\n",
    "    def forward(self, x):\n",
    "        batch_size = x.size()[0]\n",
    "        x = F.relu(self.conv1(x))\n",
    "        x = self.maxpool(x)\n",
    "        x = F.relu(self.conv2(x))\n",
    "        x = self.maxpool(x)\n",
    "        x = x.view(batch_size, -1)\n",
    "        x = F.relu(self.fc1(x))\n",
    "        x = F.relu(self.fc2(x))\n",
    "        x = self.fc3(x)\n",
    "        return x\n",
    "\n",
    "model_ft = ConvNet()\n",
    "model_ft = model_ft.to(device)\n",
    "print(model_ft)"
   ]
  },
  {
   "cell_type": "code",
   "execution_count": 25,
   "metadata": {},
   "outputs": [],
   "source": [
    "criterion_cvnet = nn.CrossEntropyLoss()\n",
    "optimizer_cvnet = optim.SGD(model_ft.parameters(), lr=0.001, momentum=0.9)"
   ]
  },
  {
   "cell_type": "code",
   "execution_count": 26,
   "metadata": {},
   "outputs": [
    {
     "name": "stdout",
     "output_type": "stream",
     "text": [
      "Epoch 0/2\n",
      "----------\n",
      "train Loss: 1.7479 Acc: 0.3561\n",
      "Epoch 1/2\n",
      "----------\n",
      "train Loss: 1.4229 Acc: 0.4872\n",
      "Epoch 2/2\n",
      "----------\n",
      "train Loss: 1.3180 Acc: 0.5303\n",
      "\n",
      "Training complete in 2m 14s\n"
     ]
    },
    {
     "data": {
      "text/plain": [
       "ConvNet(\n",
       "  (conv1): Conv2d(3, 6, kernel_size=(5, 5), stride=(1, 1))\n",
       "  (maxpool): MaxPool2d(kernel_size=2, stride=2, padding=0, dilation=1, ceil_mode=False)\n",
       "  (conv2): Conv2d(6, 16, kernel_size=(5, 5), stride=(1, 1))\n",
       "  (fc1): Linear(in_features=400, out_features=120, bias=True)\n",
       "  (fc2): Linear(in_features=120, out_features=84, bias=True)\n",
       "  (fc3): Linear(in_features=84, out_features=10, bias=True)\n",
       ")"
      ]
     },
     "execution_count": 26,
     "metadata": {},
     "output_type": "execute_result"
    }
   ],
   "source": [
    "train_model(model_ft, criterion_cvnet, optimizer_cvnet, num_epochs=3, save_path='cvnet.pth')"
   ]
  },
  {
   "cell_type": "markdown",
   "metadata": {
    "colab_type": "text",
    "id": "NMAIB0f8VO9M"
   },
   "source": [
    "## Task 3: Design Your Network I (20 points)\n",
    "Define your own Convolutional Network (MyNet) starting from the configuration in Task 2.2. Add following modifications and train the Network for **25** epoches. Keep the best settings for each step (for each step, record the training accuracy of the last epoch and test accuracy in your report):\n",
    "\n",
    "1. Increase the number of layers: Modify the number of convolutional layers in the network.\n",
    "2. Increase the number of filters: Modify the number of filters in each convolutional layer of the network. \n",
    "3. Modify the filter sizes in each convolutional layer. Experiment with different filter sizes (3x3, 5x5 and 7x7)."
   ]
  },
  {
   "cell_type": "code",
   "execution_count": 32,
   "metadata": {},
   "outputs": [
    {
     "name": "stdout",
     "output_type": "stream",
     "text": [
      "ConvNet0_0(\n",
      "  (conv1): Conv2d(3, 6, kernel_size=(5, 5), stride=(1, 1), padding=(2, 2))\n",
      "  (maxpool): MaxPool2d(kernel_size=2, stride=2, padding=0, dilation=1, ceil_mode=False)\n",
      "  (conv2): Conv2d(6, 16, kernel_size=(5, 5), stride=(1, 1), padding=(2, 2))\n",
      "  (fc1): Linear(in_features=1024, out_features=120, bias=True)\n",
      "  (fc2): Linear(in_features=120, out_features=84, bias=True)\n",
      "  (fc3): Linear(in_features=84, out_features=10, bias=True)\n",
      ")\n"
     ]
    }
   ],
   "source": [
    "class ConvNet0_0(nn.Module):\n",
    "    def __init__(self):\n",
    "        super(ConvNet0_0, self).__init__()\n",
    "        self.conv1 = nn.Conv2d(3, 6, padding=2, kernel_size=5)\n",
    "        self.maxpool = nn.MaxPool2d(kernel_size=2)\n",
    "        self.conv2 = nn.Conv2d(6, 16, padding=2, kernel_size=5)\n",
    "        self.fc1 = nn.Linear(1024, 120)\n",
    "        self.fc2 = nn.Linear(120, 84)\n",
    "        self.fc3 = nn.Linear(84, 10)\n",
    "\n",
    "    def forward(self, x):\n",
    "        batch_size = x.size()[0]\n",
    "        x = F.relu(self.conv1(x))\n",
    "        x = self.maxpool(x)\n",
    "        x = F.relu(self.conv2(x))\n",
    "        x = self.maxpool(x)\n",
    "        x = x.view(batch_size, -1)\n",
    "        x = F.relu(self.fc1(x))\n",
    "        x = F.relu(self.fc2(x))\n",
    "        x = self.fc3(x)\n",
    "        return x\n",
    "\n",
    "model_ft = ConvNet0_0()\n",
    "model_ft = model_ft.to(device)\n",
    "print(model_ft)"
   ]
  },
  {
   "cell_type": "code",
   "execution_count": 33,
   "metadata": {},
   "outputs": [],
   "source": [
    "criterion_cvnet = nn.CrossEntropyLoss()\n",
    "optimizer_cvnet = optim.SGD(model_ft.parameters(), lr=0.001, momentum=0.9)"
   ]
  },
  {
   "cell_type": "code",
   "execution_count": 34,
   "metadata": {},
   "outputs": [
    {
     "name": "stdout",
     "output_type": "stream",
     "text": [
      "Epoch 0/2\n",
      "----------\n",
      "train Loss: 1.7001 Acc: 0.3807\n",
      "Epoch 1/2\n",
      "----------\n",
      "train Loss: 1.3229 Acc: 0.5277\n",
      "Epoch 2/2\n",
      "----------\n",
      "train Loss: 1.1956 Acc: 0.5771\n",
      "\n",
      "Training complete in 2m 14s\n"
     ]
    },
    {
     "data": {
      "text/plain": [
       "ConvNet0_0(\n",
       "  (conv1): Conv2d(3, 6, kernel_size=(5, 5), stride=(1, 1), padding=(2, 2))\n",
       "  (maxpool): MaxPool2d(kernel_size=2, stride=2, padding=0, dilation=1, ceil_mode=False)\n",
       "  (conv2): Conv2d(6, 16, kernel_size=(5, 5), stride=(1, 1), padding=(2, 2))\n",
       "  (fc1): Linear(in_features=1024, out_features=120, bias=True)\n",
       "  (fc2): Linear(in_features=120, out_features=84, bias=True)\n",
       "  (fc3): Linear(in_features=84, out_features=10, bias=True)\n",
       ")"
      ]
     },
     "execution_count": 34,
     "metadata": {},
     "output_type": "execute_result"
    }
   ],
   "source": [
    "train_model(model_ft, criterion_cvnet, optimizer_cvnet, num_epochs=3, save_path='cvnet_padded.pth')"
   ]
  },
  {
   "cell_type": "markdown",
   "metadata": {},
   "source": [
    "Since ConvNet with padded layers has got even higher accuracy after training, we will base alterations of the network on ConvNet0_0()."
   ]
  },
  {
   "cell_type": "code",
   "execution_count": 39,
   "metadata": {},
   "outputs": [
    {
     "name": "stdout",
     "output_type": "stream",
     "text": [
      "ConvNet1_1(\n",
      "  (conv1): Conv2d(3, 6, kernel_size=(5, 5), stride=(1, 1), padding=(2, 2))\n",
      "  (maxpool): MaxPool2d(kernel_size=2, stride=2, padding=0, dilation=1, ceil_mode=False)\n",
      "  (conv2): Conv2d(6, 16, kernel_size=(5, 5), stride=(1, 1), padding=(2, 2))\n",
      "  (conv3): Conv2d(16, 26, kernel_size=(5, 5), stride=(1, 1), padding=(2, 2))\n",
      "  (fc1): Linear(in_features=416, out_features=120, bias=True)\n",
      "  (fc2): Linear(in_features=120, out_features=84, bias=True)\n",
      "  (fc3): Linear(in_features=84, out_features=10, bias=True)\n",
      ")\n"
     ]
    }
   ],
   "source": [
    "class ConvNet1_1(nn.Module):\n",
    "    def __init__(self):\n",
    "        super(ConvNet1_1, self).__init__()\n",
    "        self.conv1 = nn.Conv2d(3, 6, padding=2, kernel_size=5)\n",
    "        self.maxpool = nn.MaxPool2d(kernel_size=2)\n",
    "        self.conv2 = nn.Conv2d(6, 16, padding=2, kernel_size=5)\n",
    "        self.conv3 = nn.Conv2d(16, 26, padding=2, kernel_size=5)\n",
    "        self.fc1 = nn.Linear(416, 120)\n",
    "        self.fc2 = nn.Linear(120, 84)\n",
    "        self.fc3 = nn.Linear(84, 10)\n",
    "\n",
    "    def forward(self, x):\n",
    "        batch_size = x.size()[0]\n",
    "        x = F.relu(self.conv1(x))\n",
    "        x = self.maxpool(x)\n",
    "        x = F.relu(self.conv2(x))\n",
    "        x = self.maxpool(x)\n",
    "        x = F.relu(self.conv3(x))\n",
    "        x = self.maxpool(x)\n",
    "        x = x.view(batch_size, -1)\n",
    "        x = F.relu(self.fc1(x))\n",
    "        x = F.relu(self.fc2(x))\n",
    "        x = self.fc3(x)\n",
    "        return x\n",
    "\n",
    "model_ft = ConvNet1_1()\n",
    "model_ft = model_ft.to(device)\n",
    "print(model_ft)"
   ]
  },
  {
   "cell_type": "code",
   "execution_count": 40,
   "metadata": {},
   "outputs": [
    {
     "name": "stdout",
     "output_type": "stream",
     "text": [
      "Epoch 0/2\n",
      "----------\n",
      "train Loss: 1.8442 Acc: 0.3140\n",
      "Epoch 1/2\n",
      "----------\n",
      "train Loss: 1.3952 Acc: 0.4950\n",
      "Epoch 2/2\n",
      "----------\n",
      "train Loss: 1.2281 Acc: 0.5642\n",
      "\n",
      "Training complete in 2m 32s\n"
     ]
    },
    {
     "data": {
      "text/plain": [
       "ConvNet1_1(\n",
       "  (conv1): Conv2d(3, 6, kernel_size=(5, 5), stride=(1, 1), padding=(2, 2))\n",
       "  (maxpool): MaxPool2d(kernel_size=2, stride=2, padding=0, dilation=1, ceil_mode=False)\n",
       "  (conv2): Conv2d(6, 16, kernel_size=(5, 5), stride=(1, 1), padding=(2, 2))\n",
       "  (conv3): Conv2d(16, 26, kernel_size=(5, 5), stride=(1, 1), padding=(2, 2))\n",
       "  (fc1): Linear(in_features=416, out_features=120, bias=True)\n",
       "  (fc2): Linear(in_features=120, out_features=84, bias=True)\n",
       "  (fc3): Linear(in_features=84, out_features=10, bias=True)\n",
       ")"
      ]
     },
     "execution_count": 40,
     "metadata": {},
     "output_type": "execute_result"
    }
   ],
   "source": [
    "criterion_cvnet = nn.CrossEntropyLoss()\n",
    "optimizer_cvnet = optim.SGD(model_ft.parameters(), lr=0.001, momentum=0.9)\n",
    "train_model(model_ft, criterion_cvnet, optimizer_cvnet, num_epochs=3, save_path='cvnet_1_1.pth')"
   ]
  },
  {
   "cell_type": "code",
   "execution_count": 42,
   "metadata": {},
   "outputs": [
    {
     "name": "stdout",
     "output_type": "stream",
     "text": [
      "ConvNet1_2(\n",
      "  (conv1): Conv2d(3, 6, kernel_size=(3, 3), stride=(1, 1), padding=(1, 1))\n",
      "  (maxpool): MaxPool2d(kernel_size=2, stride=2, padding=0, dilation=1, ceil_mode=False)\n",
      "  (conv2): Conv2d(6, 16, kernel_size=(3, 3), stride=(1, 1), padding=(1, 1))\n",
      "  (conv3): Conv2d(16, 32, kernel_size=(3, 3), stride=(1, 1), padding=(1, 1))\n",
      "  (fc1): Linear(in_features=512, out_features=120, bias=True)\n",
      "  (fc2): Linear(in_features=120, out_features=84, bias=True)\n",
      "  (fc3): Linear(in_features=84, out_features=10, bias=True)\n",
      ")\n"
     ]
    }
   ],
   "source": [
    "class ConvNet1_2(nn.Module):\n",
    "    def __init__(self):\n",
    "        super(ConvNet1_2, self).__init__()\n",
    "        self.conv1 = nn.Conv2d(3, 6, padding=1, kernel_size=3)\n",
    "        self.maxpool = nn.MaxPool2d(kernel_size=2)\n",
    "        self.conv2 = nn.Conv2d(6, 16, padding=1, kernel_size=3)\n",
    "        self.conv3 = nn.Conv2d(16, 32, padding=1, kernel_size=3)\n",
    "        self.fc1 = nn.Linear(512, 120)\n",
    "        self.fc2 = nn.Linear(120, 84)\n",
    "        self.fc3 = nn.Linear(84, 10)\n",
    "\n",
    "    def forward(self, x):\n",
    "        batch_size = x.size()[0]\n",
    "        x = F.relu(self.conv1(x))\n",
    "        x = self.maxpool(x)\n",
    "        x = F.relu(self.conv2(x))\n",
    "        x = self.maxpool(x)\n",
    "        x = F.relu(self.conv3(x))\n",
    "        x = self.maxpool(x)\n",
    "        x = x.view(batch_size, -1)\n",
    "        x = F.relu(self.fc1(x))\n",
    "        x = F.relu(self.fc2(x))\n",
    "        x = self.fc3(x)\n",
    "        return x\n",
    "\n",
    "model_ft = ConvNet1_2()\n",
    "model_ft = model_ft.to(device)\n",
    "print(model_ft)"
   ]
  },
  {
   "cell_type": "code",
   "execution_count": 43,
   "metadata": {},
   "outputs": [
    {
     "name": "stdout",
     "output_type": "stream",
     "text": [
      "Epoch 0/2\n",
      "----------\n",
      "train Loss: 1.8533 Acc: 0.3167\n",
      "Epoch 1/2\n",
      "----------\n",
      "train Loss: 1.4048 Acc: 0.4936\n",
      "Epoch 2/2\n",
      "----------\n",
      "train Loss: 1.2303 Acc: 0.5627\n",
      "\n",
      "Training complete in 2m 34s\n"
     ]
    },
    {
     "data": {
      "text/plain": [
       "ConvNet1_2(\n",
       "  (conv1): Conv2d(3, 6, kernel_size=(3, 3), stride=(1, 1), padding=(1, 1))\n",
       "  (maxpool): MaxPool2d(kernel_size=2, stride=2, padding=0, dilation=1, ceil_mode=False)\n",
       "  (conv2): Conv2d(6, 16, kernel_size=(3, 3), stride=(1, 1), padding=(1, 1))\n",
       "  (conv3): Conv2d(16, 32, kernel_size=(3, 3), stride=(1, 1), padding=(1, 1))\n",
       "  (fc1): Linear(in_features=512, out_features=120, bias=True)\n",
       "  (fc2): Linear(in_features=120, out_features=84, bias=True)\n",
       "  (fc3): Linear(in_features=84, out_features=10, bias=True)\n",
       ")"
      ]
     },
     "execution_count": 43,
     "metadata": {},
     "output_type": "execute_result"
    }
   ],
   "source": [
    "optimizer_cvnet = optim.SGD(model_ft.parameters(), lr=0.001, momentum=0.9)\n",
    "train_model(model_ft, criterion_cvnet, optimizer_cvnet, num_epochs=3, save_path='cvnet_1_2.pth')"
   ]
  },
  {
   "cell_type": "code",
   "execution_count": 47,
   "metadata": {},
   "outputs": [
    {
     "name": "stdout",
     "output_type": "stream",
     "text": [
      "ConvNet2_1(\n",
      "  (conv1): Conv2d(3, 16, kernel_size=(5, 5), stride=(1, 1), padding=(2, 2))\n",
      "  (maxpool): MaxPool2d(kernel_size=2, stride=2, padding=0, dilation=1, ceil_mode=False)\n",
      "  (conv2): Conv2d(16, 32, kernel_size=(5, 5), stride=(1, 1), padding=(2, 2))\n",
      "  (fc1): Linear(in_features=2048, out_features=120, bias=True)\n",
      "  (fc2): Linear(in_features=120, out_features=84, bias=True)\n",
      "  (fc3): Linear(in_features=84, out_features=10, bias=True)\n",
      ")\n"
     ]
    }
   ],
   "source": [
    "class ConvNet2_1(nn.Module):\n",
    "    def __init__(self):\n",
    "        super(ConvNet2_1, self).__init__()\n",
    "        self.conv1 = nn.Conv2d(3, 16, padding=2, kernel_size=5)\n",
    "        self.maxpool = nn.MaxPool2d(kernel_size=2)\n",
    "        self.conv2 = nn.Conv2d(16, 32, padding=2, kernel_size=5)\n",
    "        self.fc1 = nn.Linear(2048, 120)\n",
    "        self.fc2 = nn.Linear(120, 84)\n",
    "        self.fc3 = nn.Linear(84, 10)\n",
    "\n",
    "    def forward(self, x):\n",
    "        batch_size = x.size()[0]\n",
    "        x = F.relu(self.conv1(x))\n",
    "        x = self.maxpool(x)\n",
    "        x = F.relu(self.conv2(x))\n",
    "        x = self.maxpool(x)\n",
    "        x = x.view(batch_size, -1)\n",
    "        x = F.relu(self.fc1(x))\n",
    "        x = F.relu(self.fc2(x))\n",
    "        x = self.fc3(x)\n",
    "        return x\n",
    "\n",
    "model_ft = ConvNet2_1()\n",
    "model_ft = model_ft.to(device)\n",
    "print(model_ft)"
   ]
  },
  {
   "cell_type": "code",
   "execution_count": 48,
   "metadata": {},
   "outputs": [
    {
     "name": "stdout",
     "output_type": "stream",
     "text": [
      "Epoch 0/2\n",
      "----------\n",
      "train Loss: 1.6184 Acc: 0.4102\n",
      "Epoch 1/2\n",
      "----------\n",
      "train Loss: 1.2159 Acc: 0.5663\n",
      "Epoch 2/2\n",
      "----------\n",
      "train Loss: 1.0638 Acc: 0.6226\n",
      "\n",
      "Training complete in 2m 17s\n"
     ]
    },
    {
     "data": {
      "text/plain": [
       "ConvNet2_1(\n",
       "  (conv1): Conv2d(3, 16, kernel_size=(5, 5), stride=(1, 1), padding=(2, 2))\n",
       "  (maxpool): MaxPool2d(kernel_size=2, stride=2, padding=0, dilation=1, ceil_mode=False)\n",
       "  (conv2): Conv2d(16, 32, kernel_size=(5, 5), stride=(1, 1), padding=(2, 2))\n",
       "  (fc1): Linear(in_features=2048, out_features=120, bias=True)\n",
       "  (fc2): Linear(in_features=120, out_features=84, bias=True)\n",
       "  (fc3): Linear(in_features=84, out_features=10, bias=True)\n",
       ")"
      ]
     },
     "execution_count": 48,
     "metadata": {},
     "output_type": "execute_result"
    }
   ],
   "source": [
    "optimizer_cvnet = optim.SGD(model_ft.parameters(), lr=0.001, momentum=0.9)\n",
    "train_model(model_ft, criterion_cvnet, optimizer_cvnet, num_epochs=3, save_path='cvnet_2_1.pth')"
   ]
  },
  {
   "cell_type": "code",
   "execution_count": 49,
   "metadata": {},
   "outputs": [
    {
     "name": "stdout",
     "output_type": "stream",
     "text": [
      "ConvNet2_2(\n",
      "  (conv1): Conv2d(3, 32, kernel_size=(5, 5), stride=(1, 1), padding=(2, 2))\n",
      "  (maxpool): MaxPool2d(kernel_size=2, stride=2, padding=0, dilation=1, ceil_mode=False)\n",
      "  (conv2): Conv2d(32, 64, kernel_size=(5, 5), stride=(1, 1), padding=(2, 2))\n",
      "  (fc1): Linear(in_features=4096, out_features=120, bias=True)\n",
      "  (fc2): Linear(in_features=120, out_features=84, bias=True)\n",
      "  (fc3): Linear(in_features=84, out_features=10, bias=True)\n",
      ")\n"
     ]
    }
   ],
   "source": [
    "class ConvNet2_2(nn.Module):\n",
    "    def __init__(self):\n",
    "        super(ConvNet2_2, self).__init__()\n",
    "        self.conv1 = nn.Conv2d(3, 32, padding=2, kernel_size=5)\n",
    "        self.maxpool = nn.MaxPool2d(kernel_size=2)\n",
    "        self.conv2 = nn.Conv2d(32, 64, padding=2, kernel_size=5)\n",
    "        self.fc1 = nn.Linear(4096, 120)\n",
    "        self.fc2 = nn.Linear(120, 84)\n",
    "        self.fc3 = nn.Linear(84, 10)\n",
    "\n",
    "    def forward(self, x):\n",
    "        batch_size = x.size()[0]\n",
    "        x = F.relu(self.conv1(x))\n",
    "        x = self.maxpool(x)\n",
    "        x = F.relu(self.conv2(x))\n",
    "        x = self.maxpool(x)\n",
    "        x = x.view(batch_size, -1)\n",
    "        x = F.relu(self.fc1(x))\n",
    "        x = F.relu(self.fc2(x))\n",
    "        x = self.fc3(x)\n",
    "        return x\n",
    "\n",
    "model_ft = ConvNet2_2()\n",
    "model_ft = model_ft.to(device)\n",
    "print(model_ft)"
   ]
  },
  {
   "cell_type": "code",
   "execution_count": 50,
   "metadata": {},
   "outputs": [
    {
     "name": "stdout",
     "output_type": "stream",
     "text": [
      "Epoch 0/2\n",
      "----------\n",
      "train Loss: 1.5874 Acc: 0.4181\n",
      "Epoch 1/2\n",
      "----------\n",
      "train Loss: 1.1649 Acc: 0.5882\n",
      "Epoch 2/2\n",
      "----------\n",
      "train Loss: 0.9984 Acc: 0.6495\n",
      "\n",
      "Training complete in 2m 12s\n"
     ]
    },
    {
     "data": {
      "text/plain": [
       "ConvNet2_2(\n",
       "  (conv1): Conv2d(3, 32, kernel_size=(5, 5), stride=(1, 1), padding=(2, 2))\n",
       "  (maxpool): MaxPool2d(kernel_size=2, stride=2, padding=0, dilation=1, ceil_mode=False)\n",
       "  (conv2): Conv2d(32, 64, kernel_size=(5, 5), stride=(1, 1), padding=(2, 2))\n",
       "  (fc1): Linear(in_features=4096, out_features=120, bias=True)\n",
       "  (fc2): Linear(in_features=120, out_features=84, bias=True)\n",
       "  (fc3): Linear(in_features=84, out_features=10, bias=True)\n",
       ")"
      ]
     },
     "execution_count": 50,
     "metadata": {},
     "output_type": "execute_result"
    }
   ],
   "source": [
    "optimizer_cvnet = optim.SGD(model_ft.parameters(), lr=0.001, momentum=0.9)\n",
    "train_model(model_ft, criterion_cvnet, optimizer_cvnet, num_epochs=3, save_path='cvnet_2_2.pth')"
   ]
  },
  {
   "cell_type": "code",
   "execution_count": 52,
   "metadata": {},
   "outputs": [
    {
     "name": "stdout",
     "output_type": "stream",
     "text": [
      "ConvNet2_3(\n",
      "  (conv1): Conv2d(3, 64, kernel_size=(5, 5), stride=(1, 1), padding=(2, 2))\n",
      "  (maxpool): MaxPool2d(kernel_size=2, stride=2, padding=0, dilation=1, ceil_mode=False)\n",
      "  (conv2): Conv2d(64, 128, kernel_size=(5, 5), stride=(1, 1), padding=(2, 2))\n",
      "  (fc1): Linear(in_features=8192, out_features=120, bias=True)\n",
      "  (fc2): Linear(in_features=120, out_features=84, bias=True)\n",
      "  (fc3): Linear(in_features=84, out_features=10, bias=True)\n",
      ")\n"
     ]
    }
   ],
   "source": [
    "class ConvNet2_3(nn.Module):\n",
    "    def __init__(self):\n",
    "        super(ConvNet2_3, self).__init__()\n",
    "        self.conv1 = nn.Conv2d(3, 64, padding=2, kernel_size=5)\n",
    "        self.maxpool = nn.MaxPool2d(kernel_size=2)\n",
    "        self.conv2 = nn.Conv2d(64, 128, padding=2, kernel_size=5)\n",
    "        self.fc1 = nn.Linear(8192, 120)\n",
    "        self.fc2 = nn.Linear(120, 84)\n",
    "        self.fc3 = nn.Linear(84, 10)\n",
    "\n",
    "    def forward(self, x):\n",
    "        batch_size = x.size()[0]\n",
    "        x = F.relu(self.conv1(x))\n",
    "        x = self.maxpool(x)\n",
    "        x = F.relu(self.conv2(x))\n",
    "        x = self.maxpool(x)\n",
    "        x = x.view(batch_size, -1)\n",
    "        x = F.relu(self.fc1(x))\n",
    "        x = F.relu(self.fc2(x))\n",
    "        x = self.fc3(x)\n",
    "        return x\n",
    "\n",
    "model_ft = ConvNet2_3()\n",
    "model_ft = model_ft.to(device)\n",
    "print(model_ft)"
   ]
  },
  {
   "cell_type": "code",
   "execution_count": 53,
   "metadata": {},
   "outputs": [
    {
     "name": "stdout",
     "output_type": "stream",
     "text": [
      "Epoch 0/2\n",
      "----------\n",
      "train Loss: 1.5377 Acc: 0.4400\n",
      "Epoch 1/2\n",
      "----------\n",
      "train Loss: 1.0997 Acc: 0.6135\n",
      "Epoch 2/2\n",
      "----------\n",
      "train Loss: 0.9292 Acc: 0.6756\n",
      "\n",
      "Training complete in 2m 14s\n"
     ]
    },
    {
     "data": {
      "text/plain": [
       "ConvNet2_3(\n",
       "  (conv1): Conv2d(3, 64, kernel_size=(5, 5), stride=(1, 1), padding=(2, 2))\n",
       "  (maxpool): MaxPool2d(kernel_size=2, stride=2, padding=0, dilation=1, ceil_mode=False)\n",
       "  (conv2): Conv2d(64, 128, kernel_size=(5, 5), stride=(1, 1), padding=(2, 2))\n",
       "  (fc1): Linear(in_features=8192, out_features=120, bias=True)\n",
       "  (fc2): Linear(in_features=120, out_features=84, bias=True)\n",
       "  (fc3): Linear(in_features=84, out_features=10, bias=True)\n",
       ")"
      ]
     },
     "execution_count": 53,
     "metadata": {},
     "output_type": "execute_result"
    }
   ],
   "source": [
    "optimizer_cvnet = optim.SGD(model_ft.parameters(), lr=0.001, momentum=0.9)\n",
    "train_model(model_ft, criterion_cvnet, optimizer_cvnet, num_epochs=3, save_path='cvnet_2_3.pth')"
   ]
  },
  {
   "cell_type": "code",
   "execution_count": 54,
   "metadata": {},
   "outputs": [
    {
     "name": "stdout",
     "output_type": "stream",
     "text": [
      "ConvNet3_1(\n",
      "  (conv1): Conv2d(3, 64, kernel_size=(3, 3), stride=(1, 1), padding=(1, 1))\n",
      "  (maxpool): MaxPool2d(kernel_size=2, stride=2, padding=0, dilation=1, ceil_mode=False)\n",
      "  (conv2): Conv2d(64, 128, kernel_size=(3, 3), stride=(1, 1), padding=(1, 1))\n",
      "  (fc1): Linear(in_features=8192, out_features=120, bias=True)\n",
      "  (fc2): Linear(in_features=120, out_features=84, bias=True)\n",
      "  (fc3): Linear(in_features=84, out_features=10, bias=True)\n",
      ")\n"
     ]
    }
   ],
   "source": [
    "class ConvNet3_1(nn.Module):\n",
    "    def __init__(self):\n",
    "        super(ConvNet3_1, self).__init__()\n",
    "        self.conv1 = nn.Conv2d(3, 64, padding=1, kernel_size=3)\n",
    "        self.maxpool = nn.MaxPool2d(kernel_size=2)\n",
    "        self.conv2 = nn.Conv2d(64, 128, padding=1, kernel_size=3)\n",
    "        self.fc1 = nn.Linear(8192, 120)\n",
    "        self.fc2 = nn.Linear(120, 84)\n",
    "        self.fc3 = nn.Linear(84, 10)\n",
    "\n",
    "    def forward(self, x):\n",
    "        batch_size = x.size()[0]\n",
    "        x = F.relu(self.conv1(x))\n",
    "        x = self.maxpool(x)\n",
    "        x = F.relu(self.conv2(x))\n",
    "        x = self.maxpool(x)\n",
    "        x = x.view(batch_size, -1)\n",
    "        x = F.relu(self.fc1(x))\n",
    "        x = F.relu(self.fc2(x))\n",
    "        x = self.fc3(x)\n",
    "        return x\n",
    "\n",
    "model_ft = ConvNet3_1()\n",
    "model_ft = model_ft.to(device)\n",
    "print(model_ft)"
   ]
  },
  {
   "cell_type": "code",
   "execution_count": 55,
   "metadata": {},
   "outputs": [
    {
     "name": "stdout",
     "output_type": "stream",
     "text": [
      "Epoch 0/2\n",
      "----------\n",
      "train Loss: 1.5405 Acc: 0.4398\n",
      "Epoch 1/2\n",
      "----------\n",
      "train Loss: 1.1127 Acc: 0.6053\n",
      "Epoch 2/2\n",
      "----------\n",
      "train Loss: 0.9545 Acc: 0.6648\n",
      "\n",
      "Training complete in 2m 16s\n"
     ]
    },
    {
     "data": {
      "text/plain": [
       "ConvNet3_1(\n",
       "  (conv1): Conv2d(3, 64, kernel_size=(3, 3), stride=(1, 1), padding=(1, 1))\n",
       "  (maxpool): MaxPool2d(kernel_size=2, stride=2, padding=0, dilation=1, ceil_mode=False)\n",
       "  (conv2): Conv2d(64, 128, kernel_size=(3, 3), stride=(1, 1), padding=(1, 1))\n",
       "  (fc1): Linear(in_features=8192, out_features=120, bias=True)\n",
       "  (fc2): Linear(in_features=120, out_features=84, bias=True)\n",
       "  (fc3): Linear(in_features=84, out_features=10, bias=True)\n",
       ")"
      ]
     },
     "execution_count": 55,
     "metadata": {},
     "output_type": "execute_result"
    }
   ],
   "source": [
    "optimizer_cvnet = optim.SGD(model_ft.parameters(), lr=0.001, momentum=0.9)\n",
    "train_model(model_ft, criterion_cvnet, optimizer_cvnet, num_epochs=3, save_path='cvnet_3_1.pth')"
   ]
  },
  {
   "cell_type": "code",
   "execution_count": 56,
   "metadata": {},
   "outputs": [
    {
     "name": "stdout",
     "output_type": "stream",
     "text": [
      "ConvNet3_2(\n",
      "  (conv1): Conv2d(3, 64, kernel_size=(7, 7), stride=(1, 1), padding=(3, 3))\n",
      "  (maxpool): MaxPool2d(kernel_size=2, stride=2, padding=0, dilation=1, ceil_mode=False)\n",
      "  (conv2): Conv2d(64, 128, kernel_size=(7, 7), stride=(1, 1), padding=(3, 3))\n",
      "  (fc1): Linear(in_features=8192, out_features=120, bias=True)\n",
      "  (fc2): Linear(in_features=120, out_features=84, bias=True)\n",
      "  (fc3): Linear(in_features=84, out_features=10, bias=True)\n",
      ")\n"
     ]
    }
   ],
   "source": [
    "class ConvNet3_2(nn.Module):\n",
    "    def __init__(self):\n",
    "        super(ConvNet3_2, self).__init__()\n",
    "        self.conv1 = nn.Conv2d(3, 64, padding=3, kernel_size=7)\n",
    "        self.maxpool = nn.MaxPool2d(kernel_size=2)\n",
    "        self.conv2 = nn.Conv2d(64, 128, padding=3, kernel_size=7)\n",
    "        self.fc1 = nn.Linear(8192, 120)\n",
    "        self.fc2 = nn.Linear(120, 84)\n",
    "        self.fc3 = nn.Linear(84, 10)\n",
    "\n",
    "    def forward(self, x):\n",
    "        batch_size = x.size()[0]\n",
    "        x = F.relu(self.conv1(x))\n",
    "        x = self.maxpool(x)\n",
    "        x = F.relu(self.conv2(x))\n",
    "        x = self.maxpool(x)\n",
    "        x = x.view(batch_size, -1)\n",
    "        x = F.relu(self.fc1(x))\n",
    "        x = F.relu(self.fc2(x))\n",
    "        x = self.fc3(x)\n",
    "        return x\n",
    "\n",
    "model_ft = ConvNet3_2()\n",
    "model_ft = model_ft.to(device)\n",
    "print(model_ft)"
   ]
  },
  {
   "cell_type": "code",
   "execution_count": 57,
   "metadata": {},
   "outputs": [
    {
     "name": "stdout",
     "output_type": "stream",
     "text": [
      "Epoch 0/2\n",
      "----------\n",
      "train Loss: 1.5362 Acc: 0.4413\n",
      "Epoch 1/2\n",
      "----------\n",
      "train Loss: 1.1253 Acc: 0.6040\n",
      "Epoch 2/2\n",
      "----------\n",
      "train Loss: 0.9412 Acc: 0.6727\n",
      "\n",
      "Training complete in 2m 15s\n"
     ]
    },
    {
     "data": {
      "text/plain": [
       "ConvNet3_2(\n",
       "  (conv1): Conv2d(3, 64, kernel_size=(7, 7), stride=(1, 1), padding=(3, 3))\n",
       "  (maxpool): MaxPool2d(kernel_size=2, stride=2, padding=0, dilation=1, ceil_mode=False)\n",
       "  (conv2): Conv2d(64, 128, kernel_size=(7, 7), stride=(1, 1), padding=(3, 3))\n",
       "  (fc1): Linear(in_features=8192, out_features=120, bias=True)\n",
       "  (fc2): Linear(in_features=120, out_features=84, bias=True)\n",
       "  (fc3): Linear(in_features=84, out_features=10, bias=True)\n",
       ")"
      ]
     },
     "execution_count": 57,
     "metadata": {},
     "output_type": "execute_result"
    }
   ],
   "source": [
    "optimizer_cvnet = optim.SGD(model_ft.parameters(), lr=0.001, momentum=0.9)\n",
    "train_model(model_ft, criterion_cvnet, optimizer_cvnet, num_epochs=3, save_path='cvnet_3_2.pth')"
   ]
  },
  {
   "cell_type": "markdown",
   "metadata": {
    "colab_type": "text",
    "id": "fkrcMarLVO9N"
   },
   "source": [
    "## Task 4: Design Your Network II (20 points)\n",
    "Keeping the best settings of Task 3, use **Dropout** in fully connected layers and Batch Normalization (choose a suitable batch size) in convolutional layers. Record the training accuracy of the last epoch and test accuracy in your report."
   ]
  },
  {
   "cell_type": "markdown",
   "metadata": {
    "colab_type": "text",
    "id": "biQSr45WKS86"
   },
   "source": [
    "### Design Your Network"
   ]
  },
  {
   "cell_type": "code",
   "execution_count": 4,
   "metadata": {
    "colab": {},
    "colab_type": "code",
    "id": "PpRAJHrtVO9o"
   },
   "outputs": [],
   "source": [
    "# Define a Convolutional Neural Network\n",
    "class MyNet(nn.Module):\n",
    "    def __init__(self):\n",
    "        super(MyNet, self).__init__()\n",
    "        self.conv1 = nn.Conv2d(3, 64, padding=2, kernel_size=5, bias=False)\n",
    "        self.bn1 = nn.BatchNorm2d(num_features=64)\n",
    "        self.maxpool = nn.MaxPool2d(kernel_size=2)\n",
    "        self.conv2 = nn.Conv2d(64, 128, padding=2, kernel_size=5, bias=False)\n",
    "        self.bn2 = nn.BatchNorm2d(num_features=128)\n",
    "        self.fc1 = nn.Linear(8192, 120)\n",
    "        self.fc2 = nn.Linear(120, 84)\n",
    "        self.fc3 = nn.Linear(84, 10)\n",
    "        self.dropout = nn.Dropout(0.2)\n",
    "\n",
    "    def forward(self, x):\n",
    "        batch_size = x.size()[0]\n",
    "        x = F.relu(self.bn1(self.conv1(x)))\n",
    "        x = self.maxpool(x)\n",
    "        x = F.relu(self.bn2(self.conv2(x)))\n",
    "        x = self.maxpool(x)\n",
    "        x = x.view(batch_size, -1)\n",
    "        x = self.dropout(x)\n",
    "        x = F.relu(self.fc1(x))\n",
    "        x = self.dropout(x)\n",
    "        x = F.relu(self.fc2(x))\n",
    "        x = self.dropout(x)\n",
    "        x = self.fc3(x)\n",
    "        return x"
   ]
  },
  {
   "cell_type": "code",
   "execution_count": 29,
   "metadata": {
    "colab": {},
    "colab_type": "code",
    "id": "77S-thkZVO9q"
   },
   "outputs": [],
   "source": [
    "model_ft = MyNet()\n",
    "model_ft = model_ft.to(device)\n",
    "criterion = nn.CrossEntropyLoss()\n",
    "\n",
    "# TODO Task 5: Optimizer\n",
    "optimizer_ft = optim.SGD(model_ft.parameters(), lr=0.001, momentum=0.9)"
   ]
  },
  {
   "cell_type": "code",
   "execution_count": 67,
   "metadata": {
    "colab": {},
    "colab_type": "code",
    "id": "KYLl8I42VO9r"
   },
   "outputs": [
    {
     "name": "stdout",
     "output_type": "stream",
     "text": [
      "Epoch 0/24\n",
      "----------\n",
      "train Loss: 1.6446 Acc: 0.4022\n",
      "Epoch 1/24\n",
      "----------\n",
      "train Loss: 1.3503 Acc: 0.5240\n",
      "Epoch 2/24\n",
      "----------\n",
      "train Loss: 1.2145 Acc: 0.5791\n",
      "Epoch 3/24\n",
      "----------\n",
      "train Loss: 1.1161 Acc: 0.6139\n",
      "Epoch 4/24\n",
      "----------\n",
      "train Loss: 1.0387 Acc: 0.6440\n",
      "Epoch 5/24\n",
      "----------\n",
      "train Loss: 0.9798 Acc: 0.6650\n",
      "Epoch 6/24\n",
      "----------\n",
      "train Loss: 0.9352 Acc: 0.6803\n",
      "Epoch 7/24\n",
      "----------\n",
      "train Loss: 0.8934 Acc: 0.6982\n",
      "Epoch 8/24\n",
      "----------\n",
      "train Loss: 0.8703 Acc: 0.7035\n",
      "Epoch 9/24\n",
      "----------\n",
      "train Loss: 0.8318 Acc: 0.7164\n",
      "Epoch 10/24\n",
      "----------\n",
      "train Loss: 0.8088 Acc: 0.7241\n",
      "Epoch 11/24\n",
      "----------\n",
      "train Loss: 0.7921 Acc: 0.7323\n",
      "Epoch 12/24\n",
      "----------\n",
      "train Loss: 0.7672 Acc: 0.7371\n",
      "Epoch 13/24\n",
      "----------\n",
      "train Loss: 0.7488 Acc: 0.7453\n",
      "Epoch 14/24\n",
      "----------\n",
      "train Loss: 0.7342 Acc: 0.7520\n",
      "Epoch 15/24\n",
      "----------\n",
      "train Loss: 0.7206 Acc: 0.7556\n",
      "Epoch 16/24\n",
      "----------\n",
      "train Loss: 0.6990 Acc: 0.7626\n",
      "Epoch 17/24\n",
      "----------\n",
      "train Loss: 0.6923 Acc: 0.7643\n",
      "Epoch 18/24\n",
      "----------\n",
      "train Loss: 0.6748 Acc: 0.7715\n",
      "Epoch 19/24\n",
      "----------\n",
      "train Loss: 0.6663 Acc: 0.7719\n",
      "Epoch 20/24\n",
      "----------\n",
      "train Loss: 0.6503 Acc: 0.7782\n",
      "Epoch 21/24\n",
      "----------\n",
      "train Loss: 0.6421 Acc: 0.7805\n",
      "Epoch 22/24\n",
      "----------\n",
      "train Loss: 0.6347 Acc: 0.7849\n",
      "Epoch 23/24\n",
      "----------\n",
      "train Loss: 0.6208 Acc: 0.7882\n",
      "Epoch 24/24\n",
      "----------\n",
      "train Loss: 0.6129 Acc: 0.7908\n",
      "\n",
      "Training complete in 22m 14s\n"
     ]
    }
   ],
   "source": [
    "## Train and evaluate\n",
    "model_ft = train_model(model_ft, criterion, optimizer_ft, num_epochs=25)"
   ]
  },
  {
   "cell_type": "markdown",
   "metadata": {
    "colab_type": "text",
    "id": "akFMVbNaVO9N"
   },
   "source": [
    "## Task 5: The Optimizer (20 points)\n",
    "Keeping the best settings of Task 4, use 3 different optimizers (SGD, ADAM and RMSProp) with 3 different learning rates (0.001, 0.01, 0.1) . Plot the loss curves (Training loss vs Training step) for each case."
   ]
  },
  {
   "cell_type": "markdown",
   "metadata": {},
   "source": [
    "return value of function \"train_model\" has been changed at this point"
   ]
  },
  {
   "cell_type": "code",
   "execution_count": 6,
   "metadata": {},
   "outputs": [
    {
     "name": "stdout",
     "output_type": "stream",
     "text": [
      "Epoch 0/9\n",
      "----------\n",
      "train Loss: 1.6689 Acc: 0.3900\n",
      "Epoch 1/9\n",
      "----------\n",
      "train Loss: 1.3259 Acc: 0.5258\n",
      "Epoch 2/9\n",
      "----------\n",
      "train Loss: 1.1946 Acc: 0.5773\n",
      "Epoch 3/9\n",
      "----------\n",
      "train Loss: 1.1192 Acc: 0.6046\n",
      "Epoch 4/9\n",
      "----------\n",
      "train Loss: 1.0582 Acc: 0.6307\n",
      "Epoch 5/9\n",
      "----------\n",
      "train Loss: 1.0151 Acc: 0.6442\n",
      "Epoch 6/9\n",
      "----------\n",
      "train Loss: 0.9723 Acc: 0.6612\n",
      "Epoch 7/9\n",
      "----------\n",
      "train Loss: 0.9377 Acc: 0.6728\n",
      "Epoch 8/9\n",
      "----------\n",
      "train Loss: 0.9119 Acc: 0.6840\n",
      "Epoch 9/9\n",
      "----------\n",
      "train Loss: 0.8855 Acc: 0.6934\n",
      "\n",
      "Training complete in 7m 50s\n"
     ]
    }
   ],
   "source": [
    "optimizer = optim.SGD(model_ft.parameters(), lr=0.001)\n",
    "losses_001_SGD = train_model(model_ft, criterion, optimizer, num_epochs=10)"
   ]
  },
  {
   "cell_type": "code",
   "execution_count": 16,
   "metadata": {},
   "outputs": [
    {
     "name": "stdout",
     "output_type": "stream",
     "text": [
      "Epoch 0/9\n",
      "----------\n",
      "train Loss: 1.6239 Acc: 0.4123\n",
      "Epoch 1/9\n",
      "----------\n",
      "train Loss: 1.3330 Acc: 0.5313\n",
      "Epoch 2/9\n",
      "----------\n",
      "train Loss: 1.1936 Acc: 0.5851\n",
      "Epoch 3/9\n",
      "----------\n",
      "train Loss: 1.0947 Acc: 0.6234\n",
      "Epoch 4/9\n",
      "----------\n",
      "train Loss: 1.0147 Acc: 0.6506\n",
      "Epoch 5/9\n",
      "----------\n",
      "train Loss: 0.9523 Acc: 0.6740\n",
      "Epoch 6/9\n",
      "----------\n",
      "train Loss: 0.9086 Acc: 0.6889\n",
      "Epoch 7/9\n",
      "----------\n",
      "train Loss: 0.8825 Acc: 0.6988\n",
      "Epoch 8/9\n",
      "----------\n",
      "train Loss: 0.8435 Acc: 0.7112\n",
      "Epoch 9/9\n",
      "----------\n",
      "train Loss: 0.8204 Acc: 0.7214\n",
      "\n",
      "Training complete in 7m 45s\n"
     ]
    }
   ],
   "source": [
    "optimizer = optim.SGD(model_ft.parameters(), lr=0.01)\n",
    "losses_01_SGD = train_model(model_ft, criterion, optimizer, num_epochs=10)"
   ]
  },
  {
   "cell_type": "code",
   "execution_count": 12,
   "metadata": {},
   "outputs": [
    {
     "name": "stdout",
     "output_type": "stream",
     "text": [
      "Epoch 0/9\n",
      "----------\n",
      "train Loss: 2.3081 Acc: 0.1011\n",
      "Epoch 1/9\n",
      "----------\n",
      "train Loss: 2.3090 Acc: 0.0974\n",
      "Epoch 2/9\n",
      "----------\n",
      "train Loss: 2.3081 Acc: 0.1009\n",
      "Epoch 3/9\n",
      "----------\n",
      "train Loss: 2.3085 Acc: 0.0984\n",
      "Epoch 4/9\n",
      "----------\n",
      "train Loss: 2.3081 Acc: 0.1000\n",
      "Epoch 5/9\n",
      "----------\n",
      "train Loss: 2.3084 Acc: 0.0994\n",
      "Epoch 6/9\n",
      "----------\n",
      "train Loss: 2.3086 Acc: 0.0980\n",
      "Epoch 7/9\n",
      "----------\n",
      "train Loss: 2.3083 Acc: 0.0978\n",
      "Epoch 8/9\n",
      "----------\n",
      "train Loss: 2.3086 Acc: 0.0999\n",
      "Epoch 9/9\n",
      "----------\n",
      "train Loss: 2.3085 Acc: 0.1007\n",
      "\n",
      "Training complete in 7m 54s\n"
     ]
    }
   ],
   "source": [
    "optimizer = optim.SGD(model_ft.parameters(), lr=0.1)\n",
    "losses_1_SGD = train_model(model_ft, criterion, optimizer, num_epochs=10)"
   ]
  },
  {
   "cell_type": "code",
   "execution_count": 37,
   "metadata": {},
   "outputs": [
    {
     "data": {
      "text/plain": [
       "[1.6688675293254853,\n",
       " 1.3258605150318146,\n",
       " 1.1946222650027276,\n",
       " 1.1191962688326835,\n",
       " 1.0581714764451982,\n",
       " 1.015088370306492,\n",
       " 0.9723418320655822,\n",
       " 0.9376602974939346,\n",
       " 0.9119118077683449,\n",
       " 0.8854776505565644]"
      ]
     },
     "execution_count": 37,
     "metadata": {},
     "output_type": "execute_result"
    }
   ],
   "source": [
    "losses_001_SGD"
   ]
  },
  {
   "cell_type": "code",
   "execution_count": 41,
   "metadata": {
    "scrolled": true
   },
   "outputs": [
    {
     "data": {
      "image/png": "[encoded data removed]",
      "text/plain": [
       "<Figure size 720x720 with 1 Axes>"
      ]
     },
     "metadata": {
      "needs_background": "light"
     },
     "output_type": "display_data"
    }
   ],
   "source": [
    "plt.figure(figsize=(10, 10))\n",
    "plt.plot(np.arange(11), [2.308] + losses_001_SGD, label=\"0.001\")\n",
    "plt.plot(np.arange(11), [2.308] + losses_01_SGD, label=\"0.01\")\n",
    "plt.plot(np.arange(11), [2.308] + losses_1_SGD, label=\"0.1\")\n",
    "plt.xlim(0, )\n",
    "plt.ylim(0, )\n",
    "plt.legend()\n",
    "plt.xlabel(\"Epoch\")\n",
    "plt.ylabel(\"Loss\")\n",
    "plt.grid()\n",
    "plt.savefig(\"SGD.png\")\n",
    "plt.show()"
   ]
  },
  {
   "cell_type": "code",
   "execution_count": 43,
   "metadata": {},
   "outputs": [
    {
     "name": "stdout",
     "output_type": "stream",
     "text": [
      "Epoch 0/9\n",
      "----------\n",
      "train Loss: 1.8142 Acc: 0.3232\n",
      "Epoch 1/9\n",
      "----------\n",
      "train Loss: 1.5611 Acc: 0.4338\n",
      "Epoch 2/9\n",
      "----------\n",
      "train Loss: 1.4691 Acc: 0.4783\n",
      "Epoch 3/9\n",
      "----------\n",
      "train Loss: 1.4110 Acc: 0.4987\n",
      "Epoch 4/9\n",
      "----------\n",
      "train Loss: 1.3612 Acc: 0.5181\n",
      "Epoch 5/9\n",
      "----------\n",
      "train Loss: 1.3161 Acc: 0.5339\n",
      "Epoch 6/9\n",
      "----------\n",
      "train Loss: 1.2765 Acc: 0.5454\n",
      "Epoch 7/9\n",
      "----------\n",
      "train Loss: 1.2584 Acc: 0.5556\n",
      "Epoch 8/9\n",
      "----------\n",
      "train Loss: 1.2418 Acc: 0.5597\n",
      "Epoch 9/9\n",
      "----------\n",
      "train Loss: 1.2183 Acc: 0.5691\n",
      "\n",
      "Training complete in 10m 10s\n",
      "Epoch 0/9\n",
      "----------\n",
      "train Loss: 2.3168 Acc: 0.1029\n",
      "Epoch 1/9\n",
      "----------\n",
      "train Loss: 2.3067 Acc: 0.0984\n",
      "Epoch 2/9\n",
      "----------\n",
      "train Loss: 2.3066 Acc: 0.0996\n",
      "Epoch 3/9\n",
      "----------\n",
      "train Loss: 2.3066 Acc: 0.0983\n",
      "Epoch 4/9\n",
      "----------\n",
      "train Loss: 2.3065 Acc: 0.0987\n",
      "Epoch 5/9\n",
      "----------\n",
      "train Loss: 2.3065 Acc: 0.1001\n",
      "Epoch 6/9\n",
      "----------\n",
      "train Loss: 2.3065 Acc: 0.0997\n",
      "Epoch 7/9\n",
      "----------\n",
      "train Loss: 2.3067 Acc: 0.0991\n",
      "Epoch 8/9\n",
      "----------\n",
      "train Loss: 2.3063 Acc: 0.1011\n",
      "Epoch 9/9\n",
      "----------\n",
      "train Loss: 2.3064 Acc: 0.1005\n",
      "\n",
      "Training complete in 9m 56s\n",
      "Epoch 0/9\n",
      "----------\n",
      "train Loss: 2.7894 Acc: 0.0996\n",
      "Epoch 1/9\n",
      "----------\n",
      "train Loss: 2.3405 Acc: 0.0993\n",
      "Epoch 2/9\n",
      "----------\n",
      "train Loss: 2.3388 Acc: 0.1014\n",
      "Epoch 3/9\n",
      "----------\n",
      "train Loss: 2.3394 Acc: 0.0992\n",
      "Epoch 4/9\n",
      "----------\n",
      "train Loss: 2.3384 Acc: 0.0997\n",
      "Epoch 5/9\n",
      "----------\n",
      "train Loss: 2.3412 Acc: 0.0991\n",
      "Epoch 6/9\n",
      "----------\n",
      "train Loss: 2.3403 Acc: 0.1009\n",
      "Epoch 7/9\n",
      "----------\n",
      "train Loss: 2.3392 Acc: 0.1010\n",
      "Epoch 8/9\n",
      "----------\n",
      "train Loss: 2.3405 Acc: 0.0995\n",
      "Epoch 9/9\n",
      "----------\n",
      "train Loss: 2.3403 Acc: 0.0985\n",
      "\n",
      "Training complete in 9m 54s\n"
     ]
    }
   ],
   "source": [
    "lrs = [0.001, 0.01, 0.1]\n",
    "losses_adam = []\n",
    "for lr in lrs:\n",
    "    model_ft = MyNet()\n",
    "    model_ft = model_ft.to(device)\n",
    "    optimizer = optim.Adam(model_ft.parameters(), lr=lr)\n",
    "    loss = train_model(model_ft, criterion, optimizer, num_epochs=10)\n",
    "    losses_adam.append(loss)"
   ]
  },
  {
   "cell_type": "code",
   "execution_count": 45,
   "metadata": {},
   "outputs": [
    {
     "data": {
      "image/png": "[encoded data removed]",
      "text/plain": [
       "<Figure size 720x720 with 1 Axes>"
      ]
     },
     "metadata": {
      "needs_background": "light"
     },
     "output_type": "display_data"
    }
   ],
   "source": [
    "plt.figure(figsize=(10, 10))\n",
    "counter = 0\n",
    "for lr in lrs:\n",
    "    plt.plot(np.arange(11), [2.308] + losses_adam[counter], label=str(lr))\n",
    "    counter += 1\n",
    "plt.xlim(0, )\n",
    "plt.ylim(0, )\n",
    "plt.legend()\n",
    "plt.xlabel(\"Epoch\")\n",
    "plt.ylabel(\"Loss\")\n",
    "plt.grid()\n",
    "plt.savefig(\"Adam.png\")\n",
    "plt.show()"
   ]
  },
  {
   "cell_type": "code",
   "execution_count": 48,
   "metadata": {},
   "outputs": [
    {
     "name": "stdout",
     "output_type": "stream",
     "text": [
      "Epoch 0/9\n",
      "----------\n",
      "train Loss: 1.8042 Acc: 0.3192\n",
      "Epoch 1/9\n",
      "----------\n",
      "train Loss: 1.5399 Acc: 0.4261\n",
      "Epoch 2/9\n",
      "----------\n",
      "train Loss: 1.4291 Acc: 0.4813\n",
      "Epoch 3/9\n",
      "----------\n",
      "train Loss: 1.3375 Acc: 0.5254\n",
      "Epoch 4/9\n",
      "----------\n",
      "train Loss: 1.2558 Acc: 0.5667\n",
      "Epoch 5/9\n",
      "----------\n",
      "train Loss: 1.2152 Acc: 0.5855\n",
      "Epoch 6/9\n",
      "----------\n",
      "train Loss: 1.2053 Acc: 0.5938\n",
      "Epoch 7/9\n",
      "----------\n",
      "train Loss: 1.1853 Acc: 0.6029\n",
      "Epoch 8/9\n",
      "----------\n",
      "train Loss: 1.1645 Acc: 0.6131\n",
      "Epoch 9/9\n",
      "----------\n",
      "train Loss: 1.1557 Acc: 0.6173\n",
      "\n",
      "Training complete in 9m 13s\n",
      "Epoch 0/9\n",
      "----------\n",
      "train Loss: 2.4889 Acc: 0.0984\n",
      "Epoch 1/9\n",
      "----------\n",
      "train Loss: 2.3065 Acc: 0.0983\n",
      "Epoch 2/9\n",
      "----------\n",
      "train Loss: 2.3063 Acc: 0.0999\n",
      "Epoch 3/9\n",
      "----------\n",
      "train Loss: 2.3064 Acc: 0.1000\n",
      "Epoch 4/9\n",
      "----------\n",
      "train Loss: 2.3065 Acc: 0.0992\n",
      "Epoch 5/9\n",
      "----------\n",
      "train Loss: 2.3062 Acc: 0.0990\n",
      "Epoch 6/9\n",
      "----------\n",
      "train Loss: 2.3063 Acc: 0.1010\n",
      "Epoch 7/9\n",
      "----------\n",
      "train Loss: 2.3064 Acc: 0.1002\n",
      "Epoch 8/9\n",
      "----------\n",
      "train Loss: 2.3068 Acc: 0.1003\n",
      "Epoch 9/9\n",
      "----------\n",
      "train Loss: 2.3067 Acc: 0.0988\n",
      "\n",
      "Training complete in 9m 14s\n",
      "Epoch 0/9\n",
      "----------\n",
      "train Loss: 187.1341 Acc: 0.1016\n",
      "Epoch 1/9\n",
      "----------\n",
      "train Loss: 2.3435 Acc: 0.1005\n",
      "Epoch 2/9\n",
      "----------\n",
      "train Loss: 2.3415 Acc: 0.0986\n",
      "Epoch 3/9\n",
      "----------\n",
      "train Loss: 2.3403 Acc: 0.0995\n",
      "Epoch 4/9\n",
      "----------\n",
      "train Loss: 2.3404 Acc: 0.1000\n",
      "Epoch 5/9\n",
      "----------\n",
      "train Loss: 2.3405 Acc: 0.0996\n",
      "Epoch 6/9\n",
      "----------\n",
      "train Loss: 2.3403 Acc: 0.0995\n",
      "Epoch 7/9\n",
      "----------\n",
      "train Loss: 2.3407 Acc: 0.0985\n",
      "Epoch 8/9\n",
      "----------\n",
      "train Loss: 2.3408 Acc: 0.1009\n",
      "Epoch 9/9\n",
      "----------\n",
      "train Loss: 2.3409 Acc: 0.1013\n",
      "\n",
      "Training complete in 9m 9s\n"
     ]
    }
   ],
   "source": [
    "losses_rmsprop = []\n",
    "for lr in lrs:\n",
    "    model_ft = MyNet()\n",
    "    model_ft = model_ft.to(device)\n",
    "    optimizer = optim.RMSprop(model_ft.parameters(), lr=lr)\n",
    "    loss = train_model(model_ft, criterion, optimizer, num_epochs=10)\n",
    "    losses_rmsprop.append(loss)"
   ]
  },
  {
   "cell_type": "code",
   "execution_count": null,
   "metadata": {},
   "outputs": [],
   "source": [
    "plt.figure(figsize=(10, 10))\n",
    "counter = 0\n",
    "for lr in lrs:\n",
    "    plt.plot(np.arange(11), [2.308] + losses_rmsprop[counter], label=str(lr))\n",
    "    counter += 1\n",
    "plt.xlim(0, )\n",
    "plt.ylim(0, )\n",
    "plt.legend()\n",
    "plt.xlabel(\"Epoch\")\n",
    "plt.ylabel(\"Loss\")\n",
    "plt.grid()\n",
    "plt.savefig(\"Adam.png\")\n",
    "plt.show()"
   ]
  },
  {
   "cell_type": "markdown",
   "metadata": {},
   "source": [
    "Training final model"
   ]
  },
  {
   "cell_type": "code",
   "execution_count": 7,
   "metadata": {},
   "outputs": [
    {
     "name": "stdout",
     "output_type": "stream",
     "text": [
      "Epoch 0/24\n",
      "----------\n",
      "train Loss: 1.6445 Acc: 0.3992\n",
      "Epoch 1/24\n",
      "----------\n",
      "train Loss: 1.3453 Acc: 0.5264\n",
      "Epoch 2/24\n",
      "----------\n",
      "train Loss: 1.2074 Acc: 0.5808\n",
      "Epoch 3/24\n",
      "----------\n",
      "train Loss: 1.1073 Acc: 0.6180\n",
      "Epoch 4/24\n",
      "----------\n",
      "train Loss: 1.0270 Acc: 0.6472\n",
      "Epoch 5/24\n",
      "----------\n",
      "train Loss: 0.9722 Acc: 0.6674\n",
      "Epoch 6/24\n",
      "----------\n",
      "train Loss: 0.9204 Acc: 0.6846\n",
      "Epoch 7/24\n",
      "----------\n",
      "train Loss: 0.8869 Acc: 0.6968\n",
      "Epoch 8/24\n",
      "----------\n",
      "train Loss: 0.8540 Acc: 0.7085\n",
      "Epoch 9/24\n",
      "----------\n",
      "train Loss: 0.8347 Acc: 0.7172\n",
      "Epoch 10/24\n",
      "----------\n",
      "train Loss: 0.8085 Acc: 0.7247\n",
      "Epoch 11/24\n",
      "----------\n",
      "train Loss: 0.7816 Acc: 0.7337\n",
      "Epoch 12/24\n",
      "----------\n",
      "train Loss: 0.7600 Acc: 0.7402\n",
      "Epoch 13/24\n",
      "----------\n",
      "train Loss: 0.7424 Acc: 0.7484\n",
      "Epoch 14/24\n",
      "----------\n",
      "train Loss: 0.7285 Acc: 0.7520\n",
      "Epoch 15/24\n",
      "----------\n",
      "train Loss: 0.7085 Acc: 0.7584\n",
      "Epoch 16/24\n",
      "----------\n",
      "train Loss: 0.6978 Acc: 0.7634\n",
      "Epoch 17/24\n",
      "----------\n",
      "train Loss: 0.6899 Acc: 0.7661\n",
      "Epoch 18/24\n",
      "----------\n",
      "train Loss: 0.6759 Acc: 0.7702\n",
      "Epoch 19/24\n",
      "----------\n",
      "train Loss: 0.6547 Acc: 0.7758\n",
      "Epoch 20/24\n",
      "----------\n",
      "train Loss: 0.6518 Acc: 0.7756\n",
      "Epoch 21/24\n",
      "----------\n",
      "train Loss: 0.6285 Acc: 0.7866\n",
      "Epoch 22/24\n",
      "----------\n",
      "train Loss: 0.6225 Acc: 0.7878\n",
      "Epoch 23/24\n",
      "----------\n",
      "train Loss: 0.6167 Acc: 0.7903\n",
      "Epoch 24/24\n",
      "----------\n",
      "train Loss: 0.6101 Acc: 0.7917\n",
      "\n",
      "Training complete in 19m 47s\n"
     ]
    }
   ],
   "source": [
    "model_ft = MyNet()\n",
    "model_ft = model_ft.to(device)\n",
    "criterion = nn.CrossEntropyLoss()\n",
    "optimizer = optim.SGD(model_ft.parameters(), lr=0.01)\n",
    "loss = train_model(model_ft, criterion, optimizer, num_epochs=25, save_path=\"final_model.pth\")"
   ]
  },
  {
   "cell_type": "markdown",
   "metadata": {
    "colab_type": "text",
    "id": "bl7mS2igVO9v"
   },
   "source": [
    "### Testing the Accuracy"
   ]
  },
  {
   "cell_type": "code",
   "execution_count": 5,
   "metadata": {
    "colab": {},
    "colab_type": "code",
    "id": "GtE6iv9rVO9w"
   },
   "outputs": [],
   "source": [
    "def test_model(model, load_path='saved_weight.pth'):    \n",
    "    # load the model weights\n",
    "    model.load_state_dict(torch.load(load_path))\n",
    "    \n",
    "    since = time.time()\n",
    "\n",
    "    for phase in ['test']:\n",
    "        if phase == 'test':\n",
    "            model.eval()   # Set model to evaluate mode\n",
    "\n",
    "        running_loss = 0.0\n",
    "        running_corrects = 0\n",
    "\n",
    "        # Iterate over data.\n",
    "        for inputs, labels in dataloaders[phase]:\n",
    "            inputs = inputs.to(device)\n",
    "            labels = labels.to(device)\n",
    "\n",
    "            with torch.no_grad():\n",
    "                outputs = model(inputs)\n",
    "                _, preds = torch.max(outputs, 1)\n",
    "\n",
    "            # statistics\n",
    "            running_corrects += torch.sum(preds == labels.data)\n",
    "        epoch_acc = running_corrects.double() / dataset_sizes[phase]\n",
    "\n",
    "        print('{} Acc: {:.4f}'.format(phase, epoch_acc))\n",
    "\n",
    "    time_elapsed = time.time() - since\n",
    "    print('Testing complete in {:.0f}m {:.0f}s'.format(time_elapsed // 60, time_elapsed % 60))\n",
    "\n",
    "    return "
   ]
  },
  {
   "cell_type": "code",
   "execution_count": 11,
   "metadata": {
    "colab": {},
    "colab_type": "code",
    "id": "8ZI4TK9jVO9y"
   },
   "outputs": [
    {
     "name": "stdout",
     "output_type": "stream",
     "text": [
      "test Acc: 0.8066\n",
      "Testing complete in 0m 4s\n"
     ]
    }
   ],
   "source": [
    "test_model(model_ft, \"final_model.pth\")"
   ]
  },
  {
   "cell_type": "markdown",
   "metadata": {},
   "source": [
    "### Display model predictions"
   ]
  },
  {
   "cell_type": "code",
   "execution_count": 15,
   "metadata": {},
   "outputs": [],
   "source": [
    "## Display model predictions\n",
    "## Generic function to display predictions for a few images\n",
    "\n",
    "def display_predictions(model, num_images=6):\n",
    "    was_training = model.training\n",
    "    model.eval()\n",
    "    images_so_far = 0\n",
    "    fig = plt.figure()\n",
    "\n",
    "    with torch.no_grad():\n",
    "        for i, (inputs, labels) in enumerate(dataloaders['test']):\n",
    "            inputs = inputs.to(device)\n",
    "            labels = labels.to(device)\n",
    "\n",
    "            outputs = model(inputs)\n",
    "            _, preds = torch.max(outputs, 1)\n",
    "\n",
    "            for j in range(inputs.size()[0]):\n",
    "                images_so_far += 1\n",
    "                ax = plt.subplot(num_images//2, 2, images_so_far)\n",
    "                ax.axis('off')\n",
    "                ax.set_title('predicted: {}'.format(class_names[preds[j]]))\n",
    "                imshow(inputs.cpu().data[j])\n",
    "\n",
    "                if images_so_far == num_images:\n",
    "                    model.train(mode=was_training)\n",
    "                    return\n",
    "        model.train(mode=was_training)"
   ]
  },
  {
   "cell_type": "code",
   "execution_count": 16,
   "metadata": {},
   "outputs": [
    {
     "data": {
      "image/png": "[encoded data removed]",
      "text/plain": [
       "<Figure size 432x288 with 1 Axes>"
      ]
     },
     "metadata": {
      "needs_background": "light"
     },
     "output_type": "display_data"
    },
    {
     "data": {
      "image/png": "[encoded data removed]",
      "text/plain": [
       "<Figure size 432x288 with 1 Axes>"
      ]
     },
     "metadata": {
      "needs_background": "light"
     },
     "output_type": "display_data"
    },
    {
     "data": {
      "image/png": "[encoded data removed]",
      "text/plain": [
       "<Figure size 432x288 with 1 Axes>"
      ]
     },
     "metadata": {
      "needs_background": "light"
     },
     "output_type": "display_data"
    },
    {
     "data": {
      "image/png": "[encoded data removed]",
      "text/plain": [
       "<Figure size 432x288 with 1 Axes>"
      ]
     },
     "metadata": {
      "needs_background": "light"
     },
     "output_type": "display_data"
    },
    {
     "data": {
      "image/png": "[encoded data removed]",
      "text/plain": [
       "<Figure size 432x288 with 1 Axes>"
      ]
     },
     "metadata": {
      "needs_background": "light"
     },
     "output_type": "display_data"
    },
    {
     "data": {
      "image/png": "[encoded data removed]",
      "text/plain": [
       "<Figure size 432x288 with 1 Axes>"
      ]
     },
     "metadata": {
      "needs_background": "light"
     },
     "output_type": "display_data"
    }
   ],
   "source": [
    "display_predictions(model_ft)"
   ]
  },
  {
   "cell_type": "markdown",
   "metadata": {
    "colab_type": "text",
    "id": "E-A_mLSoVO9O"
   },
   "source": [
    "## Task 6: Visualization (10 points)\n",
    "Visualize feature maps of the first and the last convolutional layer of your final network using **cifar_example.jpg** as input image. Show the visualization in the report.\n",
    "\n",
    "#### First layer activations\n",
    "<img src=\"https://i.imgur.com/kGB9AuP.png\" width=\"400\" align=\"left\">"
   ]
  },
  {
   "cell_type": "markdown",
   "metadata": {
    "colab_type": "text",
    "id": "TsbbsIGKVO9P"
   },
   "source": [
    "#### Last layer activations\n",
    "\n",
    "<img src=\"https://i.imgur.com/qelH05X.png\" width=\"400\" align=\"left\">"
   ]
  },
  {
   "cell_type": "code",
   "execution_count": 25,
   "metadata": {},
   "outputs": [
    {
     "data": {
      "text/plain": [
       "MyNet(\n",
       "  (conv1): Conv2d(3, 64, kernel_size=(5, 5), stride=(1, 1), padding=(2, 2), bias=False)\n",
       "  (bn1): BatchNorm2d(64, eps=1e-05, momentum=0.1, affine=True, track_running_stats=True)\n",
       "  (maxpool): MaxPool2d(kernel_size=2, stride=2, padding=0, dilation=1, ceil_mode=False)\n",
       "  (conv2): Conv2d(64, 128, kernel_size=(5, 5), stride=(1, 1), padding=(2, 2), bias=False)\n",
       "  (bn2): BatchNorm2d(128, eps=1e-05, momentum=0.1, affine=True, track_running_stats=True)\n",
       "  (fc1): Linear(in_features=8192, out_features=120, bias=True)\n",
       "  (fc2): Linear(in_features=120, out_features=84, bias=True)\n",
       "  (fc3): Linear(in_features=84, out_features=10, bias=True)\n",
       "  (dropout): Dropout(p=0.2, inplace=False)\n",
       ")"
      ]
     },
     "execution_count": 25,
     "metadata": {},
     "output_type": "execute_result"
    }
   ],
   "source": [
    "model_ft = MyNet()\n",
    "model_ft.load_state_dict(torch.load(\"final_model.pth\"))\n",
    "model_ft.to(device)"
   ]
  },
  {
   "cell_type": "markdown",
   "metadata": {
    "colab_type": "text",
    "id": "vmlGWrPwVO90"
   },
   "source": [
    "## Save the Feature Maps"
   ]
  },
  {
   "cell_type": "code",
   "execution_count": 26,
   "metadata": {
    "colab": {},
    "colab_type": "code",
    "id": "IhQxWX8RVO91"
   },
   "outputs": [],
   "source": [
    "# TODO Task 6: Visualization"
   ]
  },
  {
   "cell_type": "code",
   "execution_count": 27,
   "metadata": {
    "colab": {},
    "colab_type": "code",
    "id": "gNX3eVEyVO94"
   },
   "outputs": [],
   "source": [
    "def transfer_single_img_to_tensor(img_path):\n",
    "    im = Image.open(img_path)\n",
    "    img = np.asarray(im)/255\n",
    "    mean = np.array([0.5, 0.5, 0.5])\n",
    "    std = np.array([0.5, 0.5, 0.5])\n",
    "    \n",
    "    inp = (img - mean) / std\n",
    "    inp = np.asarray(inp, dtype=np.float32)\n",
    "    inp = inp.transpose((2, 0, 1))\n",
    "    inp = np.expand_dims(inp, axis=0)\n",
    "    inp = torch.from_numpy(inp, )\n",
    "    inputs = inp.to(device)\n",
    "    return inputs"
   ]
  },
  {
   "cell_type": "code",
   "execution_count": 28,
   "metadata": {
    "colab": {},
    "colab_type": "code",
    "id": "L0AqVUu9VO97"
   },
   "outputs": [],
   "source": [
    "inputs = transfer_single_img_to_tensor('example_imgs/cifar_example.jpg')\n",
    "model_ft.eval()\n",
    "with torch.no_grad():\n",
    "    model_ft(inputs)"
   ]
  },
  {
   "cell_type": "code",
   "execution_count": 29,
   "metadata": {},
   "outputs": [],
   "source": [
    "def get_activation(name):\n",
    "    def hook(model, input, output):\n",
    "        activation[name] = output.detach()\n",
    "    return hook\n",
    "activation = {}"
   ]
  },
  {
   "cell_type": "code",
   "execution_count": 30,
   "metadata": {},
   "outputs": [
    {
     "data": {
      "text/plain": [
       "<torch.utils.hooks.RemovableHandle at 0x7f45d8631128>"
      ]
     },
     "execution_count": 30,
     "metadata": {},
     "output_type": "execute_result"
    }
   ],
   "source": [
    "model_ft.conv1.register_forward_hook(get_activation('conv1'))\n",
    "model_ft.conv2.register_forward_hook(get_activation('conv2'))"
   ]
  },
  {
   "cell_type": "code",
   "execution_count": 31,
   "metadata": {},
   "outputs": [],
   "source": [
    "with torch.no_grad():\n",
    "    model_ft(inputs)"
   ]
  },
  {
   "cell_type": "code",
   "execution_count": 36,
   "metadata": {},
   "outputs": [],
   "source": [
    "model_ft.featuremap1 = activation['conv1']\n",
    "model_ft.featuremap2 = activation['conv2']"
   ]
  },
  {
   "cell_type": "code",
   "execution_count": 37,
   "metadata": {
    "colab": {},
    "colab_type": "code",
    "id": "I4Y-bqt2VO99"
   },
   "outputs": [],
   "source": [
    "# Model_ft.featuremap1 and model_ft.featuremap2 should be the first and the last feature maps.\n",
    "# Add model_ft.featuremap1 and model_ft.featuremap2 at suitable places in your network\n",
    "\n",
    "\n",
    "feature_ouput1 = model_ft.featuremap1.transpose(1,0).cpu()\n",
    "feature_ouput2 = model_ft.featuremap2.transpose(1,0).cpu()"
   ]
  },
  {
   "cell_type": "code",
   "execution_count": 38,
   "metadata": {
    "colab": {},
    "colab_type": "code",
    "id": "m4Qy8s4BVO9_"
   },
   "outputs": [],
   "source": [
    "def feature_imshow(inp, title=None):\n",
    "    \"\"\"Imshow for Tensor.\"\"\"\n",
    "    inp = inp.detach().numpy().transpose((1, 2, 0))\n",
    "    mean = np.array([0.5, 0.5, 0.5])\n",
    "    std = np.array([0.5, 0.5, 0.5])\n",
    "    inp = std * inp + mean\n",
    "    inp = np.clip(inp, 0, 1)\n",
    "    plt.imshow(inp)\n",
    "    if title is not None:\n",
    "        plt.title(title)\n",
    "    plt.pause(0.001)  # pause a bit so that plots are updated"
   ]
  },
  {
   "cell_type": "code",
   "execution_count": 39,
   "metadata": {
    "colab": {},
    "colab_type": "code",
    "id": "2ofvGE8-VO-B"
   },
   "outputs": [
    {
     "data": {
      "image/png": "[encoded data removed]",
      "text/plain": [
       "<Figure size 432x288 with 1 Axes>"
      ]
     },
     "metadata": {
      "needs_background": "light"
     },
     "output_type": "display_data"
    }
   ],
   "source": [
    "out = torchvision.utils.make_grid(feature_ouput1)\n",
    "feature_imshow(out)"
   ]
  },
  {
   "cell_type": "code",
   "execution_count": 40,
   "metadata": {
    "colab": {},
    "colab_type": "code",
    "id": "0Mo1xtSzVO-E"
   },
   "outputs": [
    {
     "data": {
      "image/png": "[encoded data removed]",
      "text/plain": [
       "<Figure size 432x288 with 1 Axes>"
      ]
     },
     "metadata": {
      "needs_background": "light"
     },
     "output_type": "display_data"
    }
   ],
   "source": [
    "out = torchvision.utils.make_grid(feature_ouput2)\n",
    "feature_imshow(out)"
   ]
  }
 ],
 "metadata": {
  "colab": {
   "collapsed_sections": [],
   "name": "Project_Image_Classification.ipynb",
   "provenance": [],
   "toc_visible": true,
   "version": "0.3.2"
  },
  "kernelspec": {
   "display_name": "Python 3",
   "language": "python",
   "name": "python3"
  },
  "language_info": {
   "codemirror_mode": {
    "name": "ipython",
    "version": 3
   },
   "file_extension": ".py",
   "mimetype": "text/x-python",
   "name": "python",
   "nbconvert_exporter": "python",
   "pygments_lexer": "ipython3",
   "version": "3.6.9"
  }
 },
 "nbformat": 4,
 "nbformat_minor": 4
}
